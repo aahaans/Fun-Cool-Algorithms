{
 "cells": [
  {
   "cell_type": "code",
   "execution_count": 15,
   "metadata": {},
   "outputs": [
    {
     "data": {
      "text/plain": [
       "[[0, 0, 0, 0, 0, 6, 5, 0, 1],\n",
       " [0, 6, 0, 0, 0, 0, 0, 3, 4],\n",
       " [2, 0, 4, 0, 5, 0, 6, 8, 0],\n",
       " [7, 0, 0, 0, 9, 0, 0, 0, 0],\n",
       " [0, 3, 0, 1, 0, 4, 0, 6, 0],\n",
       " [0, 0, 0, 0, 3, 0, 0, 0, 7],\n",
       " [0, 9, 1, 0, 2, 0, 7, 0, 6],\n",
       " [6, 5, 0, 0, 0, 0, 0, 4, 0],\n",
       " [4, 0, 3, 9, 0, 0, 0, 0, 0]]"
      ]
     },
     "execution_count": 15,
     "metadata": {},
     "output_type": "execute_result"
    }
   ],
   "source": [
    "# grid = [\n",
    "#     [0, 0, 0, 0, 0, 6, 5, 0, 1],\n",
    "#     [0, 6, 0, 0, 0, 0, 0, 3, 4],\n",
    "#     [2, 0, 4, 0, 5, 0, 6, 8, 0],\n",
    "#     [7, 0, 0, 0, 9, 0, 0, 0, 0],\n",
    "#     [0, 3, 0, 1, 0, 4, 0, 6, 0],\n",
    "#     [0, 0, 0, 0, 3, 0, 0, 0, 7],\n",
    "#     [0, 9, 1, 0, 2, 0, 7, 0, 6],\n",
    "#     [6, 5, 0, 0, 0, 0, 0, 4, 0],\n",
    "#     [4, 0, 3, 9, 0, 0, 0, 0, 0]\n",
    "# ]\n",
    "\n",
    "import csv\n",
    "grid = list(csv.reader(open('sudoku.csv')))\n",
    "\n",
    "for i in range(9):\n",
    "    for j in range(9):\n",
    "        grid[i][j] = int(grid[i][j])\n",
    "        \n",
    "grid"
   ]
  },
  {
   "cell_type": "code",
   "execution_count": 7,
   "metadata": {},
   "outputs": [
    {
     "data": {
      "text/plain": [
       "{1, 4, 5, 6}"
      ]
     },
     "execution_count": 7,
     "metadata": {},
     "output_type": "execute_result"
    }
   ],
   "source": [
    "used = set()\n",
    "def isValid(x, y, num):\n",
    "    for k in grid[x]:\n",
    "        used.add(k)\n",
    "    for i in range(9):\n",
    "        used.add(grid[i][y])\n",
    "    used.discard(0)\n",
    "    if num in used:\n",
    "#         print(\"false\")\n",
    "        return False\n",
    "#     else:\n",
    "#         print(\"true\")\n",
    "    return True\n",
    "\n",
    "isValid(0, 5, 3)\n",
    "\n",
    "used "
   ]
  },
  {
   "cell_type": "code",
   "execution_count": 8,
   "metadata": {},
   "outputs": [],
   "source": [
    "def fillValid(x, y):\n",
    "    for i in range(1, 10):\n",
    "        if isValid(x, y, i):\n",
    "            grid[i][j] = i\n",
    "            break"
   ]
  },
  {
   "cell_type": "code",
   "execution_count": 13,
   "metadata": {},
   "outputs": [
    {
     "name": "stdout",
     "output_type": "stream",
     "text": [
      "filling + grid[0][1]\n",
      "filling + grid[0][2]\n",
      "filling + grid[0][3]\n",
      "filling + grid[0][4]\n",
      "filling + grid[0][7]\n",
      "filling + grid[1][0]\n",
      "filling + grid[1][2]\n",
      "filling + grid[1][3]\n",
      "filling + grid[1][4]\n",
      "filling + grid[1][5]\n",
      "filling + grid[1][6]\n",
      "filling + grid[2][1]\n",
      "filling + grid[2][3]\n",
      "filling + grid[2][5]\n",
      "filling + grid[2][8]\n",
      "filling + grid[3][1]\n",
      "filling + grid[3][2]\n",
      "filling + grid[3][3]\n",
      "filling + grid[3][5]\n",
      "filling + grid[3][6]\n",
      "filling + grid[3][7]\n",
      "filling + grid[4][0]\n",
      "filling + grid[4][2]\n",
      "filling + grid[4][4]\n",
      "filling + grid[4][6]\n",
      "filling + grid[4][8]\n",
      "filling + grid[5][0]\n",
      "filling + grid[5][1]\n",
      "filling + grid[5][2]\n",
      "filling + grid[5][3]\n",
      "filling + grid[5][5]\n",
      "filling + grid[5][6]\n",
      "filling + grid[5][7]\n",
      "filling + grid[6][0]\n",
      "filling + grid[6][3]\n",
      "filling + grid[6][5]\n",
      "filling + grid[6][7]\n",
      "filling + grid[7][2]\n",
      "filling + grid[7][3]\n",
      "filling + grid[7][4]\n",
      "filling + grid[7][5]\n",
      "filling + grid[7][6]\n",
      "filling + grid[7][8]\n",
      "filling + grid[8][5]\n",
      "filling + grid[8][6]\n",
      "filling + grid[8][7]\n",
      "filling + grid[8][8]\n"
     ]
    },
    {
     "data": {
      "text/plain": [
       "[[None, 0, 0, 0, 0, 6, 5, 0, 1],\n",
       " [0, 6, 0, 0, 0, 0, 0, 3, 4],\n",
       " [2, 0, 4, 0, 5, 0, 6, 8, 0],\n",
       " [7, 0, 0, 0, 9, 0, 0, 0, 3],\n",
       " [0, 3, 0, 1, 0, 4, 0, 6, 0],\n",
       " [0, 0, 0, 0, 3, 0, 0, 0, 7],\n",
       " [0, 9, 1, 0, 2, 0, 7, 0, 6],\n",
       " [6, 5, 0, 0, 0, 0, 0, 4, 0],\n",
       " [4, 8, 8, 8, 8, 0, 0, 0, 0]]"
      ]
     },
     "execution_count": 13,
     "metadata": {},
     "output_type": "execute_result"
    }
   ],
   "source": [
    "for i in range(9):\n",
    "    for j in range(9):\n",
    "        if grid[i][j] == 0:\n",
    "#             print(f\"filling + grid[{i}][{j}]\")\n",
    "            fillValid(i, j)\n",
    "#         else:\n",
    "#             print(\"not filling\")\n",
    "                \n",
    "grid"
   ]
  },
  {
   "cell_type": "code",
   "execution_count": 10,
   "metadata": {},
   "outputs": [],
   "source": [
    "outfile = open('solved.csv','w')\n",
    "for x in grid:\n",
    "  print(\",\".join([str(i) for i in x]), file = outfile)\n",
    "outfile.close()"
   ]
  },
  {
   "cell_type": "code",
   "execution_count": 11,
   "metadata": {},
   "outputs": [],
   "source": [
    "grid[0][0] = fillValid(0, 0)"
   ]
  },
  {
   "cell_type": "code",
   "execution_count": 12,
   "metadata": {},
   "outputs": [
    {
     "data": {
      "text/plain": [
       "[[None, 0, 0, 0, 0, 6, 5, 0, 1],\n",
       " [0, 6, 0, 0, 0, 0, 0, 3, 4],\n",
       " [2, 0, 4, 0, 5, 0, 6, 8, 0],\n",
       " [7, 0, 0, 0, 9, 0, 0, 0, 3],\n",
       " [0, 3, 0, 1, 0, 4, 0, 6, 0],\n",
       " [0, 0, 0, 0, 3, 0, 0, 0, 7],\n",
       " [0, 9, 1, 0, 2, 0, 7, 0, 6],\n",
       " [6, 5, 0, 0, 0, 0, 0, 4, 0],\n",
       " [4, 0, 3, 9, 0, 0, 0, 0, 0]]"
      ]
     },
     "execution_count": 12,
     "metadata": {},
     "output_type": "execute_result"
    }
   ],
   "source": []
  },
  {
   "cell_type": "code",
   "execution_count": null,
   "metadata": {},
   "outputs": [],
   "source": []
  }
 ],
 "metadata": {
  "kernelspec": {
   "display_name": "Python 3",
   "language": "python",
   "name": "python3"
  },
  "language_info": {
   "codemirror_mode": {
    "name": "ipython",
    "version": 3
   },
   "file_extension": ".py",
   "mimetype": "text/x-python",
   "name": "python",
   "nbconvert_exporter": "python",
   "pygments_lexer": "ipython3",
   "version": "3.7.6"
  }
 },
 "nbformat": 4,
 "nbformat_minor": 4
}
