{
 "cells": [
  {
   "cell_type": "code",
   "execution_count": 6,
   "metadata": {},
   "outputs": [
    {
     "data": {
      "text/plain": [
       "[[0, 0, 0, 0, 0, 6, 5, 0, 1],\n",
       " [0, 6, 0, 0, 0, 0, 0, 3, 4],\n",
       " [2, 0, 4, 0, 5, 0, 6, 8, 0],\n",
       " [7, 0, 0, 0, 9, 0, 0, 0, 0],\n",
       " [0, 3, 0, 1, 0, 4, 0, 6, 0],\n",
       " [0, 0, 0, 0, 3, 0, 0, 0, 7],\n",
       " [0, 9, 1, 0, 2, 0, 7, 0, 6],\n",
       " [6, 5, 0, 0, 0, 0, 0, 4, 0],\n",
       " [4, 0, 3, 9, 0, 0, 0, 0, 0]]"
      ]
     },
     "execution_count": 6,
     "metadata": {},
     "output_type": "execute_result"
    }
   ],
   "source": [
    "# grid = [\n",
    "#     [0, 0, 0, 0, 0, 6, 5, 0, 1],\n",
    "#     [0, 6, 0, 0, 0, 0, 0, 3, 4],\n",
    "#     [2, 0, 4, 0, 5, 0, 6, 8, 0],\n",
    "#     [7, 0, 0, 0, 9, 0, 0, 0, 0],\n",
    "#     [0, 3, 0, 1, 0, 4, 0, 6, 0],\n",
    "#     [0, 0, 0, 0, 3, 0, 0, 0, 7],\n",
    "#     [0, 9, 1, 0, 2, 0, 7, 0, 6],\n",
    "#     [6, 5, 0, 0, 0, 0, 0, 4, 0],\n",
    "#     [4, 0, 3, 9, 0, 0, 0, 0, 0]\n",
    "# ]\n",
    "\n",
    "import csv\n",
    "grid = list(csv.reader(open('sudoku.csv')))\n",
    "\n",
    "for i in range(9):\n",
    "    for j in range(9):\n",
    "        grid[i][j] = int(grid[i][j])\n",
    "        \n",
    "grid"
   ]
  },
  {
   "cell_type": "code",
   "execution_count": 7,
   "metadata": {},
   "outputs": [
    {
     "data": {
      "text/plain": [
       "{1, 4, 5, 6}"
      ]
     },
     "execution_count": 7,
     "metadata": {},
     "output_type": "execute_result"
    }
   ],
   "source": [
    "used = set()\n",
    "def isValid(x, y, num):\n",
    "    for k in grid[x]:\n",
    "        used.add(k)\n",
    "    for i in range(9):\n",
    "        used.add(grid[i][y])\n",
    "    used.discard(0)\n",
    "    if num in used:\n",
    "#         print(\"false\")\n",
    "        return False\n",
    "#     else:\n",
    "#         print(\"true\")\n",
    "    return True\n",
    "\n",
    "isValid(0, 5, 3)\n",
    "\n",
    "used "
   ]
  },
  {
   "cell_type": "code",
   "execution_count": 8,
   "metadata": {},
   "outputs": [],
   "source": [
    "def fillValid(x, y):\n",
    "    for i in range(1, 10):\n",
    "        if isValid(x, y, i):\n",
    "            grid[i][j] = i\n",
    "            break"
   ]
  },
  {
   "cell_type": "code",
   "execution_count": 58,
   "metadata": {},
   "outputs": [
    {
     "data": {
      "text/plain": [
       "[[0, 0, 0, 0, 0, 6, 5, 0, 1],\n",
       " [0, 6, 0, 0, 0, 0, 0, 3, 4],\n",
       " [2, 0, 4, 0, 5, 0, 6, 8, 0],\n",
       " [3, 0, 0, 0, 9, 0, 0, 0, 0],\n",
       " [0, 3, 0, 1, 0, 4, 0, 6, 0],\n",
       " [0, 0, 0, 0, 3, 0, 0, 0, 7],\n",
       " [0, 9, 1, 0, 2, 0, 7, 0, 6],\n",
       " [7, 7, 7, 7, 7, 0, 0, 7, 0],\n",
       " [4, 8, 8, 8, 8, 0, 0, 0, 0]]"
      ]
     },
     "execution_count": 58,
     "metadata": {},
     "output_type": "execute_result"
    }
   ],
   "source": [
    "for i in range(9):\n",
    "    for j in range(9):\n",
    "        if grid[i][j] == 0:\n",
    "#             print(\"filling\")\n",
    "            fillValid(i, j)\n",
    "#         else:\n",
    "#             print(\"not filling\")\n",
    "                \n",
    "grid"
   ]
  },
  {
   "cell_type": "code",
   "execution_count": 10,
   "metadata": {},
   "outputs": [],
   "source": [
    "outfile = open('solved.csv','w')\n",
    "for x in grid:\n",
    "  print(\",\".join([str(i) for i in x]), file = outfile)\n",
    "outfile.close()"
   ]
  },
  {
   "cell_type": "code",
   "execution_count": null,
   "metadata": {},
   "outputs": [],
   "source": []
  }
 ],
 "metadata": {
  "kernelspec": {
   "display_name": "Python 3",
   "language": "python",
   "name": "python3"
  },
  "language_info": {
   "codemirror_mode": {
    "name": "ipython",
    "version": 3
   },
   "file_extension": ".py",
   "mimetype": "text/x-python",
   "name": "python",
   "nbconvert_exporter": "python",
   "pygments_lexer": "ipython3",
   "version": "3.7.6"
  }
 },
 "nbformat": 4,
 "nbformat_minor": 4
}
